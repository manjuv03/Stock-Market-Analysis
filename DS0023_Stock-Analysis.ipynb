{
 "cells": [
  {
   "cell_type": "markdown",
   "metadata": {
    "id": "a7qOoxhtasEC"
   },
   "source": [
    "**Manju Swaroop V**      \n",
    "                                                            **ENG20DS0023**  \n",
    "                                                           **H-SECTION(CS-DS)**"
   ]
  },
  {
   "cell_type": "markdown",
   "metadata": {
    "id": "7tT8ROovakA6"
   },
   "source": [
    "MODULE 2"
   ]
  },
  {
   "cell_type": "markdown",
   "metadata": {
    "id": "x5LqNoc4Z4os"
   },
   "source": [
    "# 3. Evaluate the statistical Description **for** Stock Market Analysis with Data Visualization"
   ]
  },
  {
   "cell_type": "code",
   "execution_count": 68,
   "metadata": {
    "id": "I_ztlycvZthJ"
   },
   "outputs": [],
   "source": [
    "import pandas as pd\n",
    "import numpy as np\n",
    "import matplotlib.pyplot as plt\n",
    "import seaborn as sns\n",
    "import datetime\n",
    "import warnings\n",
    "warnings.filterwarnings('ignore')"
   ]
  },
  {
   "cell_type": "code",
   "execution_count": 69,
   "metadata": {
    "colab": {
     "base_uri": "https://localhost:8080/",
     "height": 347
    },
    "id": "zgBWyUZIdCRT",
    "outputId": "c6f45414-29a9-451e-f9e9-4e1590451921"
   },
   "outputs": [
    {
     "data": {
      "text/html": [
       "<div>\n",
       "<style scoped>\n",
       "    .dataframe tbody tr th:only-of-type {\n",
       "        vertical-align: middle;\n",
       "    }\n",
       "\n",
       "    .dataframe tbody tr th {\n",
       "        vertical-align: top;\n",
       "    }\n",
       "\n",
       "    .dataframe thead th {\n",
       "        text-align: right;\n",
       "    }\n",
       "</style>\n",
       "<table border=\"1\" class=\"dataframe\">\n",
       "  <thead>\n",
       "    <tr style=\"text-align: right;\">\n",
       "      <th></th>\n",
       "      <th>Date</th>\n",
       "      <th>Symbol</th>\n",
       "      <th>Series</th>\n",
       "      <th>Prev Close</th>\n",
       "      <th>Open</th>\n",
       "      <th>High</th>\n",
       "      <th>Low</th>\n",
       "      <th>Last</th>\n",
       "      <th>Close</th>\n",
       "      <th>VWAP</th>\n",
       "      <th>Volume</th>\n",
       "      <th>Turnover</th>\n",
       "      <th>Trades</th>\n",
       "      <th>Deliverable Volume</th>\n",
       "      <th>%Deliverble</th>\n",
       "    </tr>\n",
       "  </thead>\n",
       "  <tbody>\n",
       "    <tr>\n",
       "      <th>0</th>\n",
       "      <td>2015-01-01</td>\n",
       "      <td>INFY</td>\n",
       "      <td>EQ</td>\n",
       "      <td>1972.55</td>\n",
       "      <td>1968.95</td>\n",
       "      <td>1982.00</td>\n",
       "      <td>1956.9</td>\n",
       "      <td>1971.00</td>\n",
       "      <td>1974.40</td>\n",
       "      <td>1971.34</td>\n",
       "      <td>500691</td>\n",
       "      <td>9.870306e+13</td>\n",
       "      <td>14908</td>\n",
       "      <td>258080</td>\n",
       "      <td>0.5154</td>\n",
       "    </tr>\n",
       "    <tr>\n",
       "      <th>1</th>\n",
       "      <td>2015-01-02</td>\n",
       "      <td>INFY</td>\n",
       "      <td>EQ</td>\n",
       "      <td>1974.40</td>\n",
       "      <td>1972.00</td>\n",
       "      <td>2019.05</td>\n",
       "      <td>1972.0</td>\n",
       "      <td>2017.95</td>\n",
       "      <td>2013.20</td>\n",
       "      <td>2003.25</td>\n",
       "      <td>1694580</td>\n",
       "      <td>3.394669e+14</td>\n",
       "      <td>54166</td>\n",
       "      <td>1249104</td>\n",
       "      <td>0.7371</td>\n",
       "    </tr>\n",
       "    <tr>\n",
       "      <th>2</th>\n",
       "      <td>2015-01-05</td>\n",
       "      <td>INFY</td>\n",
       "      <td>EQ</td>\n",
       "      <td>2013.20</td>\n",
       "      <td>2009.90</td>\n",
       "      <td>2030.00</td>\n",
       "      <td>1977.5</td>\n",
       "      <td>1996.00</td>\n",
       "      <td>1995.90</td>\n",
       "      <td>2004.59</td>\n",
       "      <td>2484256</td>\n",
       "      <td>4.979911e+14</td>\n",
       "      <td>82694</td>\n",
       "      <td>1830962</td>\n",
       "      <td>0.7370</td>\n",
       "    </tr>\n",
       "    <tr>\n",
       "      <th>3</th>\n",
       "      <td>2015-01-06</td>\n",
       "      <td>INFY</td>\n",
       "      <td>EQ</td>\n",
       "      <td>1995.90</td>\n",
       "      <td>1980.00</td>\n",
       "      <td>1985.00</td>\n",
       "      <td>1934.1</td>\n",
       "      <td>1965.10</td>\n",
       "      <td>1954.20</td>\n",
       "      <td>1954.82</td>\n",
       "      <td>2416829</td>\n",
       "      <td>4.724458e+14</td>\n",
       "      <td>108209</td>\n",
       "      <td>1772070</td>\n",
       "      <td>0.7332</td>\n",
       "    </tr>\n",
       "    <tr>\n",
       "      <th>4</th>\n",
       "      <td>2015-01-07</td>\n",
       "      <td>INFY</td>\n",
       "      <td>EQ</td>\n",
       "      <td>1954.20</td>\n",
       "      <td>1965.00</td>\n",
       "      <td>1974.75</td>\n",
       "      <td>1950.0</td>\n",
       "      <td>1966.05</td>\n",
       "      <td>1963.55</td>\n",
       "      <td>1962.59</td>\n",
       "      <td>1812479</td>\n",
       "      <td>3.557162e+14</td>\n",
       "      <td>62463</td>\n",
       "      <td>1317720</td>\n",
       "      <td>0.7270</td>\n",
       "    </tr>\n",
       "  </tbody>\n",
       "</table>\n",
       "</div>"
      ],
      "text/plain": [
       "         Date Symbol Series  Prev Close     Open     High     Low     Last  \\\n",
       "0  2015-01-01   INFY     EQ     1972.55  1968.95  1982.00  1956.9  1971.00   \n",
       "1  2015-01-02   INFY     EQ     1974.40  1972.00  2019.05  1972.0  2017.95   \n",
       "2  2015-01-05   INFY     EQ     2013.20  2009.90  2030.00  1977.5  1996.00   \n",
       "3  2015-01-06   INFY     EQ     1995.90  1980.00  1985.00  1934.1  1965.10   \n",
       "4  2015-01-07   INFY     EQ     1954.20  1965.00  1974.75  1950.0  1966.05   \n",
       "\n",
       "     Close     VWAP   Volume      Turnover  Trades  Deliverable Volume  \\\n",
       "0  1974.40  1971.34   500691  9.870306e+13   14908              258080   \n",
       "1  2013.20  2003.25  1694580  3.394669e+14   54166             1249104   \n",
       "2  1995.90  2004.59  2484256  4.979911e+14   82694             1830962   \n",
       "3  1954.20  1954.82  2416829  4.724458e+14  108209             1772070   \n",
       "4  1963.55  1962.59  1812479  3.557162e+14   62463             1317720   \n",
       "\n",
       "   %Deliverble  \n",
       "0       0.5154  \n",
       "1       0.7371  \n",
       "2       0.7370  \n",
       "3       0.7332  \n",
       "4       0.7270  "
      ]
     },
     "execution_count": 69,
     "metadata": {},
     "output_type": "execute_result"
    }
   ],
   "source": [
    "df=pd.read_csv(\"infy_stock.csv\")        #took infosys 2015-2020 dataset\n",
    "df.head()"
   ]
  },
  {
   "cell_type": "code",
   "execution_count": 70,
   "metadata": {},
   "outputs": [
    {
     "data": {
      "text/html": [
       "<div>\n",
       "<style scoped>\n",
       "    .dataframe tbody tr th:only-of-type {\n",
       "        vertical-align: middle;\n",
       "    }\n",
       "\n",
       "    .dataframe tbody tr th {\n",
       "        vertical-align: top;\n",
       "    }\n",
       "\n",
       "    .dataframe thead th {\n",
       "        text-align: right;\n",
       "    }\n",
       "</style>\n",
       "<table border=\"1\" class=\"dataframe\">\n",
       "  <thead>\n",
       "    <tr style=\"text-align: right;\">\n",
       "      <th></th>\n",
       "      <th>Date</th>\n",
       "      <th>Symbol</th>\n",
       "      <th>Series</th>\n",
       "      <th>Prev Close</th>\n",
       "      <th>Open</th>\n",
       "      <th>High</th>\n",
       "      <th>Low</th>\n",
       "      <th>Last</th>\n",
       "      <th>Close</th>\n",
       "      <th>VWAP</th>\n",
       "      <th>Volume</th>\n",
       "      <th>Turnover</th>\n",
       "      <th>Trades</th>\n",
       "      <th>Deliverable Volume</th>\n",
       "      <th>%Deliverble</th>\n",
       "    </tr>\n",
       "  </thead>\n",
       "  <tbody>\n",
       "    <tr>\n",
       "      <th>0</th>\n",
       "      <td>2015-01-01</td>\n",
       "      <td>INFY</td>\n",
       "      <td>EQ</td>\n",
       "      <td>1972.55</td>\n",
       "      <td>1968.95</td>\n",
       "      <td>1982.00</td>\n",
       "      <td>1956.9</td>\n",
       "      <td>1971.00</td>\n",
       "      <td>1974.4</td>\n",
       "      <td>1971.34</td>\n",
       "      <td>500691</td>\n",
       "      <td>9.870306e+13</td>\n",
       "      <td>14908</td>\n",
       "      <td>258080</td>\n",
       "      <td>0.52</td>\n",
       "    </tr>\n",
       "    <tr>\n",
       "      <th>1</th>\n",
       "      <td>2015-01-02</td>\n",
       "      <td>INFY</td>\n",
       "      <td>EQ</td>\n",
       "      <td>1974.40</td>\n",
       "      <td>1972.00</td>\n",
       "      <td>2019.05</td>\n",
       "      <td>1972.0</td>\n",
       "      <td>2017.95</td>\n",
       "      <td>2013.2</td>\n",
       "      <td>2003.25</td>\n",
       "      <td>1694580</td>\n",
       "      <td>3.394669e+14</td>\n",
       "      <td>54166</td>\n",
       "      <td>1249104</td>\n",
       "      <td>0.74</td>\n",
       "    </tr>\n",
       "  </tbody>\n",
       "</table>\n",
       "</div>"
      ],
      "text/plain": [
       "         Date Symbol Series  Prev Close     Open     High     Low     Last  \\\n",
       "0  2015-01-01   INFY     EQ     1972.55  1968.95  1982.00  1956.9  1971.00   \n",
       "1  2015-01-02   INFY     EQ     1974.40  1972.00  2019.05  1972.0  2017.95   \n",
       "\n",
       "    Close     VWAP   Volume      Turnover  Trades  Deliverable Volume  \\\n",
       "0  1974.4  1971.34   500691  9.870306e+13   14908              258080   \n",
       "1  2013.2  2003.25  1694580  3.394669e+14   54166             1249104   \n",
       "\n",
       "   %Deliverble  \n",
       "0         0.52  \n",
       "1         0.74  "
      ]
     },
     "execution_count": 70,
     "metadata": {},
     "output_type": "execute_result"
    }
   ],
   "source": [
    "df=df.round(2)\n",
    "df.head(2)"
   ]
  },
  {
   "cell_type": "code",
   "execution_count": 71,
   "metadata": {},
   "outputs": [
    {
     "data": {
      "text/plain": [
       "(248, 15)"
      ]
     },
     "execution_count": 71,
     "metadata": {},
     "output_type": "execute_result"
    }
   ],
   "source": [
    "df.shape"
   ]
  },
  {
   "cell_type": "code",
   "execution_count": 72,
   "metadata": {},
   "outputs": [
    {
     "name": "stdout",
     "output_type": "stream",
     "text": [
      "<class 'pandas.core.frame.DataFrame'>\n",
      "RangeIndex: 248 entries, 0 to 247\n",
      "Data columns (total 15 columns):\n",
      " #   Column              Non-Null Count  Dtype  \n",
      "---  ------              --------------  -----  \n",
      " 0   Date                248 non-null    object \n",
      " 1   Symbol              248 non-null    object \n",
      " 2   Series              248 non-null    object \n",
      " 3   Prev Close          248 non-null    float64\n",
      " 4   Open                248 non-null    float64\n",
      " 5   High                248 non-null    float64\n",
      " 6   Low                 248 non-null    float64\n",
      " 7   Last                248 non-null    float64\n",
      " 8   Close               248 non-null    float64\n",
      " 9   VWAP                248 non-null    float64\n",
      " 10  Volume              248 non-null    int64  \n",
      " 11  Turnover            248 non-null    float64\n",
      " 12  Trades              248 non-null    int64  \n",
      " 13  Deliverable Volume  248 non-null    int64  \n",
      " 14  %Deliverble         248 non-null    float64\n",
      "dtypes: float64(9), int64(3), object(3)\n",
      "memory usage: 29.2+ KB\n"
     ]
    }
   ],
   "source": [
    "df.info()"
   ]
  },
  {
   "cell_type": "code",
   "execution_count": 73,
   "metadata": {},
   "outputs": [
    {
     "data": {
      "text/plain": [
       "Index(['Date', 'Symbol', 'Series', 'Prev Close', 'Open', 'High', 'Low', 'Last',\n",
       "       'Close', 'VWAP', 'Volume', 'Turnover', 'Trades', 'Deliverable Volume',\n",
       "       '%Deliverble'],\n",
       "      dtype='object')"
      ]
     },
     "execution_count": 73,
     "metadata": {},
     "output_type": "execute_result"
    }
   ],
   "source": [
    "df.columns"
   ]
  },
  {
   "cell_type": "code",
   "execution_count": 74,
   "metadata": {},
   "outputs": [
    {
     "data": {
      "text/plain": [
       "Date                  0\n",
       "Symbol                0\n",
       "Series                0\n",
       "Prev Close            0\n",
       "Open                  0\n",
       "High                  0\n",
       "Low                   0\n",
       "Last                  0\n",
       "Close                 0\n",
       "VWAP                  0\n",
       "Volume                0\n",
       "Turnover              0\n",
       "Trades                0\n",
       "Deliverable Volume    0\n",
       "%Deliverble           0\n",
       "dtype: int64"
      ]
     },
     "execution_count": 74,
     "metadata": {},
     "output_type": "execute_result"
    }
   ],
   "source": [
    "df.isnull().sum()"
   ]
  },
  {
   "cell_type": "code",
   "execution_count": 75,
   "metadata": {},
   "outputs": [],
   "source": [
    "df.dropna(inplace = True, axis = 0)"
   ]
  },
  {
   "cell_type": "code",
   "execution_count": 76,
   "metadata": {},
   "outputs": [
    {
     "data": {
      "text/plain": [
       "Date                   object\n",
       "Symbol                 object\n",
       "Series                 object\n",
       "Prev Close            float64\n",
       "Open                  float64\n",
       "High                  float64\n",
       "Low                   float64\n",
       "Last                  float64\n",
       "Close                 float64\n",
       "VWAP                  float64\n",
       "Volume                  int64\n",
       "Turnover              float64\n",
       "Trades                  int64\n",
       "Deliverable Volume      int64\n",
       "%Deliverble           float64\n",
       "dtype: object"
      ]
     },
     "execution_count": 76,
     "metadata": {},
     "output_type": "execute_result"
    }
   ],
   "source": [
    "df.dtypes"
   ]
  },
  {
   "cell_type": "code",
   "execution_count": 77,
   "metadata": {},
   "outputs": [
    {
     "data": {
      "text/html": [
       "<div>\n",
       "<style scoped>\n",
       "    .dataframe tbody tr th:only-of-type {\n",
       "        vertical-align: middle;\n",
       "    }\n",
       "\n",
       "    .dataframe tbody tr th {\n",
       "        vertical-align: top;\n",
       "    }\n",
       "\n",
       "    .dataframe thead th {\n",
       "        text-align: right;\n",
       "    }\n",
       "</style>\n",
       "<table border=\"1\" class=\"dataframe\">\n",
       "  <thead>\n",
       "    <tr style=\"text-align: right;\">\n",
       "      <th></th>\n",
       "      <th>Date</th>\n",
       "      <th>Symbol</th>\n",
       "      <th>Series</th>\n",
       "      <th>Prev Close</th>\n",
       "      <th>Open</th>\n",
       "      <th>High</th>\n",
       "      <th>Low</th>\n",
       "      <th>Last</th>\n",
       "      <th>Close</th>\n",
       "      <th>VWAP</th>\n",
       "      <th>Volume</th>\n",
       "      <th>Turnover</th>\n",
       "      <th>Trades</th>\n",
       "      <th>Deliverable Volume</th>\n",
       "      <th>%Deliverble</th>\n",
       "    </tr>\n",
       "  </thead>\n",
       "  <tbody>\n",
       "    <tr>\n",
       "      <th>0</th>\n",
       "      <td>2015-01-01</td>\n",
       "      <td>INFY</td>\n",
       "      <td>EQ</td>\n",
       "      <td>1972.55</td>\n",
       "      <td>1968.95</td>\n",
       "      <td>1982.00</td>\n",
       "      <td>1956.9</td>\n",
       "      <td>1971.00</td>\n",
       "      <td>1974.40</td>\n",
       "      <td>1971.34</td>\n",
       "      <td>500691</td>\n",
       "      <td>9.870306e+13</td>\n",
       "      <td>14908</td>\n",
       "      <td>258080</td>\n",
       "      <td>0.52</td>\n",
       "    </tr>\n",
       "    <tr>\n",
       "      <th>1</th>\n",
       "      <td>2015-01-02</td>\n",
       "      <td>INFY</td>\n",
       "      <td>EQ</td>\n",
       "      <td>1974.40</td>\n",
       "      <td>1972.00</td>\n",
       "      <td>2019.05</td>\n",
       "      <td>1972.0</td>\n",
       "      <td>2017.95</td>\n",
       "      <td>2013.20</td>\n",
       "      <td>2003.25</td>\n",
       "      <td>1694580</td>\n",
       "      <td>3.394669e+14</td>\n",
       "      <td>54166</td>\n",
       "      <td>1249104</td>\n",
       "      <td>0.74</td>\n",
       "    </tr>\n",
       "    <tr>\n",
       "      <th>2</th>\n",
       "      <td>2015-01-05</td>\n",
       "      <td>INFY</td>\n",
       "      <td>EQ</td>\n",
       "      <td>2013.20</td>\n",
       "      <td>2009.90</td>\n",
       "      <td>2030.00</td>\n",
       "      <td>1977.5</td>\n",
       "      <td>1996.00</td>\n",
       "      <td>1995.90</td>\n",
       "      <td>2004.59</td>\n",
       "      <td>2484256</td>\n",
       "      <td>4.979911e+14</td>\n",
       "      <td>82694</td>\n",
       "      <td>1830962</td>\n",
       "      <td>0.74</td>\n",
       "    </tr>\n",
       "    <tr>\n",
       "      <th>3</th>\n",
       "      <td>2015-01-06</td>\n",
       "      <td>INFY</td>\n",
       "      <td>EQ</td>\n",
       "      <td>1995.90</td>\n",
       "      <td>1980.00</td>\n",
       "      <td>1985.00</td>\n",
       "      <td>1934.1</td>\n",
       "      <td>1965.10</td>\n",
       "      <td>1954.20</td>\n",
       "      <td>1954.82</td>\n",
       "      <td>2416829</td>\n",
       "      <td>4.724458e+14</td>\n",
       "      <td>108209</td>\n",
       "      <td>1772070</td>\n",
       "      <td>0.73</td>\n",
       "    </tr>\n",
       "    <tr>\n",
       "      <th>4</th>\n",
       "      <td>2015-01-07</td>\n",
       "      <td>INFY</td>\n",
       "      <td>EQ</td>\n",
       "      <td>1954.20</td>\n",
       "      <td>1965.00</td>\n",
       "      <td>1974.75</td>\n",
       "      <td>1950.0</td>\n",
       "      <td>1966.05</td>\n",
       "      <td>1963.55</td>\n",
       "      <td>1962.59</td>\n",
       "      <td>1812479</td>\n",
       "      <td>3.557162e+14</td>\n",
       "      <td>62463</td>\n",
       "      <td>1317720</td>\n",
       "      <td>0.73</td>\n",
       "    </tr>\n",
       "  </tbody>\n",
       "</table>\n",
       "</div>"
      ],
      "text/plain": [
       "        Date Symbol Series  Prev Close     Open     High     Low     Last  \\\n",
       "0 2015-01-01   INFY     EQ     1972.55  1968.95  1982.00  1956.9  1971.00   \n",
       "1 2015-01-02   INFY     EQ     1974.40  1972.00  2019.05  1972.0  2017.95   \n",
       "2 2015-01-05   INFY     EQ     2013.20  2009.90  2030.00  1977.5  1996.00   \n",
       "3 2015-01-06   INFY     EQ     1995.90  1980.00  1985.00  1934.1  1965.10   \n",
       "4 2015-01-07   INFY     EQ     1954.20  1965.00  1974.75  1950.0  1966.05   \n",
       "\n",
       "     Close     VWAP   Volume      Turnover  Trades  Deliverable Volume  \\\n",
       "0  1974.40  1971.34   500691  9.870306e+13   14908              258080   \n",
       "1  2013.20  2003.25  1694580  3.394669e+14   54166             1249104   \n",
       "2  1995.90  2004.59  2484256  4.979911e+14   82694             1830962   \n",
       "3  1954.20  1954.82  2416829  4.724458e+14  108209             1772070   \n",
       "4  1963.55  1962.59  1812479  3.557162e+14   62463             1317720   \n",
       "\n",
       "   %Deliverble  \n",
       "0         0.52  \n",
       "1         0.74  \n",
       "2         0.74  \n",
       "3         0.73  \n",
       "4         0.73  "
      ]
     },
     "execution_count": 77,
     "metadata": {},
     "output_type": "execute_result"
    }
   ],
   "source": [
    "df['Date'] = pd.to_datetime(df['Date'])\n",
    "df.head()\n",
    "\n"
   ]
  },
  {
   "cell_type": "code",
   "execution_count": 78,
   "metadata": {},
   "outputs": [
    {
     "data": {
      "text/plain": [
       "Timedelta('364 days 00:00:00')"
      ]
     },
     "execution_count": 78,
     "metadata": {},
     "output_type": "execute_result"
    }
   ],
   "source": [
    "df['Date'].max() - df['Date'].min()"
   ]
  },
  {
   "cell_type": "code",
   "execution_count": 79,
   "metadata": {},
   "outputs": [],
   "source": [
    "df.index = df['Date']\n"
   ]
  },
  {
   "cell_type": "code",
   "execution_count": 80,
   "metadata": {},
   "outputs": [
    {
     "data": {
      "text/plain": [
       "423413242737399.25"
      ]
     },
     "execution_count": 80,
     "metadata": {},
     "output_type": "execute_result"
    }
   ],
   "source": [
    "df['Turnover'].mean()"
   ]
  },
  {
   "cell_type": "code",
   "execution_count": 81,
   "metadata": {},
   "outputs": [
    {
     "data": {
      "text/plain": [
       "362470948577500.0"
      ]
     },
     "execution_count": 81,
     "metadata": {},
     "output_type": "execute_result"
    }
   ],
   "source": [
    "df['Turnover'].median()"
   ]
  },
  {
   "cell_type": "code",
   "execution_count": 82,
   "metadata": {},
   "outputs": [
    {
     "name": "stdout",
     "output_type": "stream",
     "text": [
      "-124160685437500.0\n"
     ]
    }
   ],
   "source": [
    "Q1 = np.median(df['Turnover'][:10])\n",
    "\n",
    "Q3 = np.median(df['Turnover'][10:])\n",
    "\n",
    "IQR= Q3 - Q1   #-->Finding Interquartile Range\n",
    "\n",
    "print(IQR)"
   ]
  },
  {
   "cell_type": "code",
   "execution_count": 83,
   "metadata": {},
   "outputs": [
    {
     "data": {
      "image/png": "[encoded data removed]",
      "text/plain": [
       "<Figure size 1080x576 with 1 Axes>"
      ]
     },
     "metadata": {},
     "output_type": "display_data"
    }
   ],
   "source": [
    "sns.set_style('whitegrid')\n",
    "df['Prev Close'].plot(figsize = (15,8))\n",
    "plt.show()\n"
   ]
  },
  {
   "cell_type": "code",
   "execution_count": 84,
   "metadata": {},
   "outputs": [
    {
     "data": {
      "image/png": "[encoded data removed]",
      "text/plain": [
       "<Figure size 720x360 with 1 Axes>"
      ]
     },
     "metadata": {},
     "output_type": "display_data"
    }
   ],
   "source": [
    "df['Trades'].hist(bins = 50, figsize = (10,5))   \n",
    "plt.xlabel('Daily returns')\n",
    "plt.ylabel('Frequency')\n",
    "plt.show()\n",
    "\n",
    "\n"
   ]
  },
  {
   "cell_type": "code",
   "execution_count": 86,
   "metadata": {},
   "outputs": [],
   "source": [
    "#MOVING AVERAGES "
   ]
  },
  {
   "cell_type": "code",
   "execution_count": 87,
   "metadata": {},
   "outputs": [],
   "source": [
    "ma_day = [10,20,50]\n",
    "\n",
    "for ma in ma_day:\n",
    "    column_name = \"MA for %s days\" %(str(ma))\n",
    "    df[column_name]=pd.DataFrame.rolling(df['Turnover'],ma).mean()\n",
    "\n"
   ]
  },
  {
   "cell_type": "code",
   "execution_count": 88,
   "metadata": {},
   "outputs": [
    {
     "data": {
      "image/png": "[encoded data removed]",
      "text/plain": [
       "<Figure size 864x432 with 1 Axes>"
      ]
     },
     "metadata": {},
     "output_type": "display_data"
    }
   ],
   "source": [
    "\n",
    "df[['Turnover','MA for 10 days','MA for 20 days','MA for 50 days']].plot(subplots=False,figsize=(12,6))\n",
    "plt.show()\n"
   ]
  },
  {
   "cell_type": "code",
   "execution_count": null,
   "metadata": {},
   "outputs": [],
   "source": [
    "#Thanks"
   ]
  }
 ],
 "metadata": {
  "colab": {
   "provenance": []
  },
  "kernelspec": {
   "display_name": "Python 3 (ipykernel)",
   "language": "python",
   "name": "python3"
  },
  "language_info": {
   "codemirror_mode": {
    "name": "ipython",
    "version": 3
   },
   "file_extension": ".py",
   "mimetype": "text/x-python",
   "name": "python",
   "nbconvert_exporter": "python",
   "pygments_lexer": "ipython3",
   "version": "3.10.0"
  }
 },
 "nbformat": 4,
 "nbformat_minor": 1
}
